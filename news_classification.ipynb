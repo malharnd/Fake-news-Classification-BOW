{
 "cells": [
  {
   "cell_type": "code",
   "execution_count": 1,
   "id": "fb495bc4-7446-4d52-8e83-5a4ce812139d",
   "metadata": {},
   "outputs": [],
   "source": [
    "import pandas as pd\n",
    "import numpy as np\n",
    "import spacy\n",
    "from sklearn.preprocessing import LabelEncoder\n",
    "from sklearn.pipeline import Pipeline\n",
    "from sklearn.model_selection import train_test_split\n",
    "\n",
    "from sklearn.feature_extraction.text  import CountVectorizer\n",
    "from sklearn.metrics import classification_report\n",
    "from sklearn.metrics import confusion_matrix\n",
    "\n",
    "from sklearn.neighbors import KNeighborsClassifier\n",
    "from sklearn.ensemble import RandomForestClassifier \n",
    "from sklearn.naive_bayes import MultinomialNB \n",
    "\n",
    "from matplotlib import pyplot as plt\n",
    "import seaborn as sn\n"
   ]
  },
  {
   "cell_type": "code",
   "execution_count": 8,
   "id": "ca439f81-f3a1-4bdc-a59e-c1c1f2d02bef",
   "metadata": {},
   "outputs": [
    {
     "data": {
      "text/html": [
       "<div>\n",
       "<style scoped>\n",
       "    .dataframe tbody tr th:only-of-type {\n",
       "        vertical-align: middle;\n",
       "    }\n",
       "\n",
       "    .dataframe tbody tr th {\n",
       "        vertical-align: top;\n",
       "    }\n",
       "\n",
       "    .dataframe thead th {\n",
       "        text-align: right;\n",
       "    }\n",
       "</style>\n",
       "<table border=\"1\" class=\"dataframe\">\n",
       "  <thead>\n",
       "    <tr style=\"text-align: right;\">\n",
       "      <th></th>\n",
       "      <th>Text</th>\n",
       "      <th>label</th>\n",
       "    </tr>\n",
       "  </thead>\n",
       "  <tbody>\n",
       "    <tr>\n",
       "      <th>0</th>\n",
       "      <td>Top Trump Surrogate BRUTALLY Stabs Him In The...</td>\n",
       "      <td>Fake</td>\n",
       "    </tr>\n",
       "    <tr>\n",
       "      <th>1</th>\n",
       "      <td>U.S. conservative leader optimistic of common ...</td>\n",
       "      <td>Real</td>\n",
       "    </tr>\n",
       "    <tr>\n",
       "      <th>2</th>\n",
       "      <td>Trump proposes U.S. tax overhaul, stirs concer...</td>\n",
       "      <td>Real</td>\n",
       "    </tr>\n",
       "    <tr>\n",
       "      <th>3</th>\n",
       "      <td>Court Forces Ohio To Allow Millions Of Illega...</td>\n",
       "      <td>Fake</td>\n",
       "    </tr>\n",
       "    <tr>\n",
       "      <th>4</th>\n",
       "      <td>Democrats say Trump agrees to work on immigrat...</td>\n",
       "      <td>Real</td>\n",
       "    </tr>\n",
       "  </tbody>\n",
       "</table>\n",
       "</div>"
      ],
      "text/plain": [
       "                                                Text label\n",
       "0   Top Trump Surrogate BRUTALLY Stabs Him In The...  Fake\n",
       "1  U.S. conservative leader optimistic of common ...  Real\n",
       "2  Trump proposes U.S. tax overhaul, stirs concer...  Real\n",
       "3   Court Forces Ohio To Allow Millions Of Illega...  Fake\n",
       "4  Democrats say Trump agrees to work on immigrat...  Real"
      ]
     },
     "execution_count": 8,
     "metadata": {},
     "output_type": "execute_result"
    }
   ],
   "source": [
    "df = pd.read_csv('fake_and_real_news.csv')\n",
    "df.head()"
   ]
  },
  {
   "cell_type": "code",
   "execution_count": 10,
   "id": "2a02d204-88cc-446b-a9bb-b308e85a58c9",
   "metadata": {},
   "outputs": [
    {
     "data": {
      "text/plain": [
       "label\n",
       "Fake    5000\n",
       "Real    4900\n",
       "Name: count, dtype: int64"
      ]
     },
     "execution_count": 10,
     "metadata": {},
     "output_type": "execute_result"
    }
   ],
   "source": [
    "df.label.value_counts()"
   ]
  },
  {
   "cell_type": "code",
   "execution_count": 12,
   "id": "c4082c11-8941-44ca-8909-395dd22a20ff",
   "metadata": {},
   "outputs": [
    {
     "data": {
      "text/html": [
       "<div>\n",
       "<style scoped>\n",
       "    .dataframe tbody tr th:only-of-type {\n",
       "        vertical-align: middle;\n",
       "    }\n",
       "\n",
       "    .dataframe tbody tr th {\n",
       "        vertical-align: top;\n",
       "    }\n",
       "\n",
       "    .dataframe thead th {\n",
       "        text-align: right;\n",
       "    }\n",
       "</style>\n",
       "<table border=\"1\" class=\"dataframe\">\n",
       "  <thead>\n",
       "    <tr style=\"text-align: right;\">\n",
       "      <th></th>\n",
       "      <th>Text</th>\n",
       "      <th>label</th>\n",
       "      <th>label_num</th>\n",
       "    </tr>\n",
       "  </thead>\n",
       "  <tbody>\n",
       "    <tr>\n",
       "      <th>0</th>\n",
       "      <td>Top Trump Surrogate BRUTALLY Stabs Him In The...</td>\n",
       "      <td>Fake</td>\n",
       "      <td>0</td>\n",
       "    </tr>\n",
       "    <tr>\n",
       "      <th>1</th>\n",
       "      <td>U.S. conservative leader optimistic of common ...</td>\n",
       "      <td>Real</td>\n",
       "      <td>1</td>\n",
       "    </tr>\n",
       "    <tr>\n",
       "      <th>2</th>\n",
       "      <td>Trump proposes U.S. tax overhaul, stirs concer...</td>\n",
       "      <td>Real</td>\n",
       "      <td>1</td>\n",
       "    </tr>\n",
       "    <tr>\n",
       "      <th>3</th>\n",
       "      <td>Court Forces Ohio To Allow Millions Of Illega...</td>\n",
       "      <td>Fake</td>\n",
       "      <td>0</td>\n",
       "    </tr>\n",
       "    <tr>\n",
       "      <th>4</th>\n",
       "      <td>Democrats say Trump agrees to work on immigrat...</td>\n",
       "      <td>Real</td>\n",
       "      <td>1</td>\n",
       "    </tr>\n",
       "    <tr>\n",
       "      <th>5</th>\n",
       "      <td>France says pressure needed to stop North Kore...</td>\n",
       "      <td>Real</td>\n",
       "      <td>1</td>\n",
       "    </tr>\n",
       "    <tr>\n",
       "      <th>6</th>\n",
       "      <td>Trump on Twitter (August 8): Opioid crisis, No...</td>\n",
       "      <td>Real</td>\n",
       "      <td>1</td>\n",
       "    </tr>\n",
       "    <tr>\n",
       "      <th>7</th>\n",
       "      <td>BUSTED: Trump Supporter Used Poll Watcher Cre...</td>\n",
       "      <td>Fake</td>\n",
       "      <td>0</td>\n",
       "    </tr>\n",
       "    <tr>\n",
       "      <th>8</th>\n",
       "      <td>Fatal Niger operation sparks calls for public ...</td>\n",
       "      <td>Real</td>\n",
       "      <td>1</td>\n",
       "    </tr>\n",
       "    <tr>\n",
       "      <th>9</th>\n",
       "      <td>Trump says he has 'great heart' for immigrant ...</td>\n",
       "      <td>Real</td>\n",
       "      <td>1</td>\n",
       "    </tr>\n",
       "  </tbody>\n",
       "</table>\n",
       "</div>"
      ],
      "text/plain": [
       "                                                Text label  label_num\n",
       "0   Top Trump Surrogate BRUTALLY Stabs Him In The...  Fake          0\n",
       "1  U.S. conservative leader optimistic of common ...  Real          1\n",
       "2  Trump proposes U.S. tax overhaul, stirs concer...  Real          1\n",
       "3   Court Forces Ohio To Allow Millions Of Illega...  Fake          0\n",
       "4  Democrats say Trump agrees to work on immigrat...  Real          1\n",
       "5  France says pressure needed to stop North Kore...  Real          1\n",
       "6  Trump on Twitter (August 8): Opioid crisis, No...  Real          1\n",
       "7   BUSTED: Trump Supporter Used Poll Watcher Cre...  Fake          0\n",
       "8  Fatal Niger operation sparks calls for public ...  Real          1\n",
       "9  Trump says he has 'great heart' for immigrant ...  Real          1"
      ]
     },
     "execution_count": 12,
     "metadata": {},
     "output_type": "execute_result"
    }
   ],
   "source": [
    "le = LabelEncoder()\n",
    "\n",
    "df['label_num'] = le.fit_transform(df['label'])\n",
    "df.head(10)"
   ]
  },
  {
   "cell_type": "markdown",
   "id": "d773f7a2-e2da-4a9b-8b73-5fcfb8e33cba",
   "metadata": {},
   "source": [
    "from sklearn.model_selection import train_test_split\n",
    "\n",
    "X_train,X_test,y_train,y_test = train_test_split(df.Text.values,df.label_num.values, test_size=0.2,stratify=df.label_num)"
   ]
  },
  {
   "cell_type": "code",
   "execution_count": 17,
   "id": "f32b3294-d251-464f-a834-2fda732f311f",
   "metadata": {},
   "outputs": [
    {
     "name": "stdout",
     "output_type": "stream",
     "text": [
      "(7920,)\n",
      "(1980,)\n"
     ]
    }
   ],
   "source": [
    "print(X_train.shape)\n",
    "print(X_test.shape)"
   ]
  },
  {
   "cell_type": "markdown",
   "id": "d10ae9ad-c9e6-4970-80ef-550eb4c41d8a",
   "metadata": {},
   "source": [
    "### Using KNN classifiers \n",
    "#### n_grams(3) \n",
    "#### cosine distance "
   ]
  },
  {
   "cell_type": "code",
   "execution_count": 19,
   "id": "8bf0edfa-1a61-4062-86d6-4acc5d7333c4",
   "metadata": {},
   "outputs": [
    {
     "name": "stdout",
     "output_type": "stream",
     "text": [
      "              precision    recall  f1-score   support\n",
      "\n",
      "           0       0.99      0.53      0.69      1000\n",
      "           1       0.67      1.00      0.80       980\n",
      "\n",
      "    accuracy                           0.76      1980\n",
      "   macro avg       0.83      0.76      0.75      1980\n",
      "weighted avg       0.84      0.76      0.75      1980\n",
      "\n"
     ]
    }
   ],
   "source": [
    "knnpipe = Pipeline(\n",
    "    [\n",
    "        ('Tri_gram_vector', CountVectorizer(ngram_range=(1,3))),\n",
    "        ('KNN', KNeighborsClassifier(n_neighbors=10, metric='cosine'))\n",
    "    ]\n",
    ")\n",
    "\n",
    "knnpipe.fit(X_train,y_train)\n",
    "\n",
    "\n",
    "y_pred = knnpipe.predict(X_test)\n",
    "\n",
    "print(classification_report(y_test,y_pred))\n"
   ]
  },
  {
   "cell_type": "markdown",
   "id": "0eafd3be-8fab-4a4e-bf5e-960b2baa8405",
   "metadata": {},
   "source": [
    "### Using KNN classifiers \n",
    "#### unigram, bigram, and trigrams. \n",
    "#### Euclidean distance \n"
   ]
  },
  {
   "cell_type": "code",
   "execution_count": 21,
   "id": "fc6b6069-5060-4eee-b53d-96825446dfaa",
   "metadata": {
    "scrolled": true
   },
   "outputs": [
    {
     "name": "stdout",
     "output_type": "stream",
     "text": [
      "              precision    recall  f1-score   support\n",
      "\n",
      "           0       0.94      0.52      0.67      1000\n",
      "           1       0.67      0.97      0.79       980\n",
      "\n",
      "    accuracy                           0.74      1980\n",
      "   macro avg       0.80      0.75      0.73      1980\n",
      "weighted avg       0.81      0.74      0.73      1980\n",
      "\n"
     ]
    }
   ],
   "source": [
    "knnpipe = Pipeline(\n",
    "    [\n",
    "        ('Tri_gram_vector', CountVectorizer(ngram_range=(1,3))),\n",
    "        ('KNN', KNeighborsClassifier(n_neighbors=10, metric='euclidean'))\n",
    "    ]\n",
    ")\n",
    "\n",
    "knnpipe.fit(X_train,y_train)\n",
    "\n",
    "\n",
    "y_pred = knnpipe.predict(X_test)\n",
    "\n",
    "print(classification_report(y_test,y_pred))\n"
   ]
  },
  {
   "cell_type": "markdown",
   "id": "fdeea1fc-5218-4b78-bc67-69d6187cb95d",
   "metadata": {},
   "source": [
    "### Using Random Forest classifier  - trigrams"
   ]
  },
  {
   "cell_type": "code",
   "execution_count": 25,
   "id": "ee9b2505-9796-409b-8547-67cc035a91f6",
   "metadata": {
    "scrolled": true
   },
   "outputs": [
    {
     "name": "stdout",
     "output_type": "stream",
     "text": [
      "              precision    recall  f1-score   support\n",
      "\n",
      "           0       0.97      0.98      0.98      1000\n",
      "           1       0.98      0.97      0.98       980\n",
      "\n",
      "    accuracy                           0.98      1980\n",
      "   macro avg       0.98      0.98      0.98      1980\n",
      "weighted avg       0.98      0.98      0.98      1980\n",
      "\n"
     ]
    }
   ],
   "source": [
    "rfcpipe = Pipeline(\n",
    "    [\n",
    "        ('Tri_gram_vector', CountVectorizer(ngram_range=(3,3))),\n",
    "        ('RFC', RandomForestClassifier(n_estimators=10)) #Default estimators\n",
    "    ]\n",
    ")\n",
    "\n",
    "rfcpipe.fit(X_train,y_train)\n",
    "\n",
    "\n",
    "y_pred = rfcpipe.predict(X_test)\n",
    "\n",
    "print(classification_report(y_test,y_pred))\n"
   ]
  },
  {
   "cell_type": "markdown",
   "id": "f9a80c8a-2c9a-4e78-8173-5b955b52b3d8",
   "metadata": {},
   "source": [
    "### Using Multinomial Naive Bayes - unigram, bigram"
   ]
  },
  {
   "cell_type": "code",
   "execution_count": 27,
   "id": "e592f8d7-be2d-4acc-81a6-50715ba11e7d",
   "metadata": {},
   "outputs": [
    {
     "name": "stdout",
     "output_type": "stream",
     "text": [
      "              precision    recall  f1-score   support\n",
      "\n",
      "           0       0.98      0.98      0.98      1000\n",
      "           1       0.98      0.98      0.98       980\n",
      "\n",
      "    accuracy                           0.98      1980\n",
      "   macro avg       0.98      0.98      0.98      1980\n",
      "weighted avg       0.98      0.98      0.98      1980\n",
      "\n"
     ]
    }
   ],
   "source": [
    "\n",
    "\n",
    "mnbpipe = Pipeline(\n",
    "    [\n",
    "        ('Tri_gram_vector', CountVectorizer(ngram_range=(1,2))),\n",
    "        ('mnb', MultinomialNB())\n",
    "    ]\n",
    ")\n",
    "\n",
    "mnbpipe.fit(X_train,y_train)\n",
    "\n",
    "\n",
    "y_pred = mnbpipe.predict(X_test)\n",
    "\n",
    "print(classification_report(y_test,y_pred))\n"
   ]
  },
  {
   "cell_type": "markdown",
   "id": "ae6c02ec-72b1-4de9-8d7d-c733682da408",
   "metadata": {},
   "source": [
    "### Using pre-processing \n",
    "- remove stop words\n",
    "-  punctuations\n",
    "-  lemmatization"
   ]
  },
  {
   "cell_type": "code",
   "execution_count": 28,
   "id": "6757ce7c-cda1-4b1b-a3d8-faa343cdb042",
   "metadata": {},
   "outputs": [],
   "source": [
    "#use this utility function to get the preprocessed text data\n",
    "\n",
    "import spacy\n",
    "\n",
    "# load english language model and create nlp object from it\n",
    "nlp = spacy.load(\"en_core_web_sm\") \n",
    "\n",
    "def preprocess(text):\n",
    "    # remove stop words and lemmatize the text\n",
    "    doc = nlp(text)\n",
    "    filtered_tokens = []\n",
    "    for token in doc:\n",
    "        if token.is_stop or token.is_punct:\n",
    "            continue\n",
    "        filtered_tokens.append(token.lemma_)\n",
    "    \n",
    "    return \" \".join(filtered_tokens) "
   ]
  },
  {
   "cell_type": "code",
   "execution_count": 29,
   "id": "a86eae11-a95d-4303-a144-f7a078f7359e",
   "metadata": {},
   "outputs": [],
   "source": [
    "df[\"preprocessed_text\"] = df[\"Text\"].apply(preprocess)"
   ]
  },
  {
   "cell_type": "code",
   "execution_count": 30,
   "id": "784bd9c1-adf6-45b8-a5d1-53bd39006650",
   "metadata": {},
   "outputs": [
    {
     "data": {
      "text/plain": [
       "0         Trump Surrogate BRUTALLY Stabs Pathetic vide...\n",
       "1       U.S. conservative leader optimistic common gro...\n",
       "2       trump propose U.S. tax overhaul stir concern d...\n",
       "3         Court Forces Ohio allow million illegally pu...\n",
       "4       Democrats Trump agree work immigration bill wa...\n",
       "                              ...                        \n",
       "9895      Wikileaks admit screw IMMENSELY Twitter Poll...\n",
       "9896    trump consult republican senator Fed chief can...\n",
       "9897    trump lawyer judge lack jurisdiction defamatio...\n",
       "9898      WATCH Right Wing Pastor Falsely Credits Trum...\n",
       "9899      Sean Spicer HILARIOUSLY Branded chickensh*t ...\n",
       "Name: preprocessed_text, Length: 9900, dtype: object"
      ]
     },
     "execution_count": 30,
     "metadata": {},
     "output_type": "execute_result"
    }
   ],
   "source": [
    "df[\"preprocessed_text\"]"
   ]
  },
  {
   "cell_type": "code",
   "execution_count": 31,
   "id": "2b71693d-61ad-4c62-84b3-dcf00a691fdf",
   "metadata": {},
   "outputs": [],
   "source": [
    "\n",
    "\n",
    "X_train,X_test,y_train,y_test = train_test_split(df.preprocessed_text.values,df.label_num.values, test_size=0.2,stratify=df.label_num)"
   ]
  },
  {
   "cell_type": "markdown",
   "id": "31ceebdb-e782-4895-9b22-2d113398142b",
   "metadata": {},
   "source": [
    "### Using Random Forest Classifier on Preprocessed Text - trigrams"
   ]
  },
  {
   "cell_type": "code",
   "execution_count": 34,
   "id": "0f714ab7-d0db-4d46-8456-27f116eac023",
   "metadata": {},
   "outputs": [
    {
     "name": "stdout",
     "output_type": "stream",
     "text": [
      "              precision    recall  f1-score   support\n",
      "\n",
      "           0       0.89      0.98      0.93      1000\n",
      "           1       0.98      0.88      0.92       980\n",
      "\n",
      "    accuracy                           0.93      1980\n",
      "   macro avg       0.93      0.93      0.93      1980\n",
      "weighted avg       0.93      0.93      0.93      1980\n",
      "\n"
     ]
    }
   ],
   "source": [
    "rfcpipe = Pipeline(\n",
    "    [\n",
    "        ('Tri_gram_vector', CountVectorizer(ngram_range=(3,3))),\n",
    "        ('RFC', RandomForestClassifier(n_estimators=10)) #Default estimators\n",
    "    ]\n",
    ")\n",
    "\n",
    "rfcpipe.fit(X_train,y_train)\n",
    "\n",
    "\n",
    "y_pred = rfcpipe.predict(X_test)\n",
    "\n",
    "print(classification_report(y_test,y_pred))\n"
   ]
  },
  {
   "cell_type": "markdown",
   "id": "80f39ea2-f283-48cc-a881-79c80ed3cf86",
   "metadata": {},
   "source": [
    "### Using Random Forest Classifier on Preprocessed Text - unigram, bigram"
   ]
  },
  {
   "cell_type": "code",
   "execution_count": 35,
   "id": "fe7ff46f-57c6-413b-9234-18f708d79fb0",
   "metadata": {},
   "outputs": [
    {
     "name": "stdout",
     "output_type": "stream",
     "text": [
      "              precision    recall  f1-score   support\n",
      "\n",
      "           0       0.97      0.99      0.98      1000\n",
      "           1       0.99      0.97      0.98       980\n",
      "\n",
      "    accuracy                           0.98      1980\n",
      "   macro avg       0.98      0.98      0.98      1980\n",
      "weighted avg       0.98      0.98      0.98      1980\n",
      "\n"
     ]
    }
   ],
   "source": [
    "rfcpipe = Pipeline(\n",
    "    [\n",
    "        ('Tri_gram_vector', CountVectorizer(ngram_range=(1,2))),\n",
    "        ('RFC', RandomForestClassifier(n_estimators=10)) #Default estimators\n",
    "    ]\n",
    ")\n",
    "\n",
    "rfcpipe.fit(X_train,y_train)\n",
    "\n",
    "\n",
    "y_pred = rfcpipe.predict(X_test)\n",
    "\n",
    "print(classification_report(y_test,y_pred))\n"
   ]
  },
  {
   "cell_type": "markdown",
   "id": "09061f16-6cb6-45a6-a460-236f4d2de35e",
   "metadata": {},
   "source": [
    "### Using Random Forest Classifier on Preprocessed Text - unigram, bigram,trigram"
   ]
  },
  {
   "cell_type": "code",
   "execution_count": 36,
   "id": "fe28bf24-cb0b-45ba-81c9-27e0c299ab1b",
   "metadata": {},
   "outputs": [
    {
     "name": "stdout",
     "output_type": "stream",
     "text": [
      "              precision    recall  f1-score   support\n",
      "\n",
      "           0       0.97      0.99      0.98      1000\n",
      "           1       0.99      0.97      0.98       980\n",
      "\n",
      "    accuracy                           0.98      1980\n",
      "   macro avg       0.98      0.98      0.98      1980\n",
      "weighted avg       0.98      0.98      0.98      1980\n",
      "\n"
     ]
    }
   ],
   "source": [
    "rfcpipe = Pipeline(\n",
    "    [\n",
    "        ('Tri_gram_vector', CountVectorizer(ngram_range=(1,3))),\n",
    "        ('RFC', RandomForestClassifier(n_estimators=10)) #Default estimators\n",
    "    ]\n",
    ")\n",
    "\n",
    "rfcpipe.fit(X_train,y_train)\n",
    "\n",
    "\n",
    "y_pred = rfcpipe.predict(X_test)\n",
    "\n",
    "print(classification_report(y_test,y_pred))\n"
   ]
  },
  {
   "cell_type": "code",
   "execution_count": 37,
   "id": "61bdfc7f-1459-42e5-9f47-fbf17215cf24",
   "metadata": {},
   "outputs": [
    {
     "data": {
      "text/plain": [
       "Text(95.72222222222221, 0.5, 'Truth')"
      ]
     },
     "execution_count": 37,
     "metadata": {},
     "output_type": "execute_result"
    },
    {
     "data": {
      "image/png": "[encoded data removed]",
      "text/plain": [
       "<Figure size 1000x700 with 2 Axes>"
      ]
     },
     "metadata": {},
     "output_type": "display_data"
    }
   ],
   "source": [
    "cm = confusion_matrix(y_test, y_pred)\n",
    "cm\n",
    "\n",
    "\n",
    "\n",
    "plt.figure(figsize = (10,7))\n",
    "sn.heatmap(cm, annot=True, fmt='d')\n",
    "plt.xlabel('Prediction')\n",
    "plt.ylabel('Truth')"
   ]
  },
  {
   "cell_type": "code",
   "execution_count": null,
   "id": "c6d7a866-5383-43a7-aef0-7c62ef529eb8",
   "metadata": {},
   "outputs": [],
   "source": []
  }
 ],
 "metadata": {
  "kernelspec": {
   "display_name": "Python 3 (ipykernel)",
   "language": "python",
   "name": "python3"
  },
  "language_info": {
   "codemirror_mode": {
    "name": "ipython",
    "version": 3
   },
   "file_extension": ".py",
   "mimetype": "text/x-python",
   "name": "python",
   "nbconvert_exporter": "python",
   "pygments_lexer": "ipython3",
   "version": "3.8.18"
  }
 },
 "nbformat": 4,
 "nbformat_minor": 5
}
